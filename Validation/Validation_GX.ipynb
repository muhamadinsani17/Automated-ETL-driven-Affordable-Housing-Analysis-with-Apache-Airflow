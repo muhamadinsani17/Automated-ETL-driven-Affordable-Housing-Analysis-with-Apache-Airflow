{
 "cells": [
  {
   "cell_type": "markdown",
   "metadata": {},
   "source": [
    "# Perkenalan"
   ]
  },
  {
   "cell_type": "markdown",
   "metadata": {},
   "source": [
    "=================================================\n",
    "\n",
    "Milestone 3\n",
    "\n",
    "Nama  : Muhammad Insani\n",
    "\n",
    "Batch : FTDS-010-HCK\n",
    "\n",
    "Program ini dibuat dengan tujuan melakukan validasi data menggunakan Great Expectation. Data yang akan divalidasi berasal dari hasil pembersihan data yang disimpan di postgreSQL. Setelah proses validasi, data akan dikirimkan ke ElasticSearch untuk kemudian divisualisasikan melalui dashboard Kibana.\n",
    "\n",
    "================================================="
   ]
  },
  {
   "cell_type": "markdown",
   "metadata": {},
   "source": [
    "# Import Libaries"
   ]
  },
  {
   "cell_type": "code",
   "execution_count": 24,
   "metadata": {},
   "outputs": [],
   "source": [
    "import pandas as pd\n",
    "import psycopg2 as db\n",
    "from great_expectations.data_context import FileDataContext"
   ]
  },
  {
   "cell_type": "markdown",
   "metadata": {},
   "source": [
    "# Deskripsi Dataset"
   ]
  },
  {
   "cell_type": "markdown",
   "metadata": {},
   "source": [
    "| Kolom                       | Deskripsi                                         |\n",
    "|-----------------------------|------------------------------------------------------|\n",
    "| BPA                         | Building Permit Application (Aplikasi Izin Mendirikan Bangunan) |\n",
    "| Address                     | Alamat proyek                                         |\n",
    "| Description                 | Deskripsi proyek                                      |\n",
    "| PTS Existing Units          | Jumlah unit yang ada sebelum proyek                   |\n",
    "| PTS Proposed Units          | Jumlah unit yang diusulkan dalam proyek               |\n",
    "| Proposed Units              | Jumlah unit yang direncanakan untuk dibangun          |\n",
    "| Net Units                   | Jumlah unit bersih setelah proyek selesai (PTS Proposed Units - PTS Existing Units) |\n",
    "| Net Units Completed         | Jumlah unit bersih yang telah selesai dibangun         |\n",
    "| First Completion Date       | Tanggal penyelesaian unit pertama                      |\n",
    "| Latest Completion Date      | Tanggal penyelesaian unit terakhir                     |\n",
    "| Extremely Low Income        | Jumlah unit yang diperuntukkan bagi masyarakat berpenghasilan sangat rendah |\n",
    "| Very Low Income             | Jumlah unit yang diperuntukkan bagi masyarakat berpenghasilan rendah |\n",
    "| Low Income                  | Jumlah unit yang diperuntukkan bagi masyarakat berpenghasilan menengah ke bawah |\n",
    "| Moderate Income              | Jumlah unit yang diperuntukkan bagi masyarakat berpenghasilan menengah |\n",
    "| Moderate Income - NDR        | Jumlah unit yang diperuntukkan bagi masyarakat berpenghasilan menengah dengan Non-Deed Restricted (NDR) |\n",
    "| Affordable Units            | Jumlah total unit yang dianggap terjangkau            |\n",
    "| Market Rate                 | Jumlah unit yang disewakan dengan harga pasar         |\n",
    "| Affordable Units Estimate   | Estimasi jumlah unit yang terjangkau                   |\n",
    "| Supervisor District         | Distrik pengawas yang bertanggung jawab                |\n",
    "| Analysis Neighborhood       | Lingkungan analisis proyek                             |\n",
    "| Planning Dist.               | Distrik perencanaan proyek                             |\n",
    "| Plan Area                    | Area perencanaan proyek                                |\n",
    "| Form No.                     | Nomor formulir izin                                   |\n",
    "| Permit Type                 | Jenis izin yang diberikan                             |\n",
    "| Issued Date                 | Tanggal izin diterbitkan                               |\n",
    "| Authorization Date          | Tanggal izin disahkan                                 |\n",
    "| Zoning District              | Distrik zonasi proyek                                 |\n",
    "| Project Affordability Type   | Jenis keterjangkauan proyek                            |\n",
    "| BlockLot                     | Nomor blok dan lot proyek                             |\n",
    "| PPTS Project ID              | Project ID dalam Planning Permit Tracking System (PPTS) |\n"
   ]
  },
  {
   "cell_type": "markdown",
   "metadata": {},
   "source": [
    "# Data Load"
   ]
  },
  {
   "cell_type": "code",
   "execution_count": 25,
   "metadata": {},
   "outputs": [
    {
     "name": "stdout",
     "output_type": "stream",
     "text": [
      "<class 'pandas.core.frame.DataFrame'>\n",
      "RangeIndex: 5186 entries, 0 to 5185\n",
      "Data columns (total 31 columns):\n",
      " #   Column                      Non-Null Count  Dtype \n",
      "---  ------                      --------------  ----- \n",
      " 0   index                       5186 non-null   int64 \n",
      " 1   bpa                         5186 non-null   object\n",
      " 2   address                     5186 non-null   object\n",
      " 3   description                 5186 non-null   object\n",
      " 4   pts_existing_units          5186 non-null   int64 \n",
      " 5   pts_proposed_units          5186 non-null   int64 \n",
      " 6   proposed_units              5186 non-null   int64 \n",
      " 7   net_units                   5186 non-null   int64 \n",
      " 8   net_units_completed         5186 non-null   int64 \n",
      " 9   first_completion_date       5186 non-null   object\n",
      " 10  latest_completion_date      5186 non-null   object\n",
      " 11  extremely_low_income        5186 non-null   int64 \n",
      " 12  very_low_income             5186 non-null   int64 \n",
      " 13  low_income                  5186 non-null   int64 \n",
      " 14  moderate_income             5186 non-null   int64 \n",
      " 15  moderate_income__ndr        5186 non-null   int64 \n",
      " 16  affordable_units            5186 non-null   int64 \n",
      " 17  market_rate                 5186 non-null   int64 \n",
      " 18  affordable_units_estimate   5186 non-null   bool  \n",
      " 19  supervisor_district         5186 non-null   int64 \n",
      " 20  analysis_neighborhood       5186 non-null   object\n",
      " 21  planning_dist               5186 non-null   object\n",
      " 22  plan_area                   5186 non-null   object\n",
      " 23  form_no                     5186 non-null   int64 \n",
      " 24  permit_type                 5186 non-null   object\n",
      " 25  issued_date                 5186 non-null   object\n",
      " 26  authorization_date          5186 non-null   object\n",
      " 27  zoning_district             5186 non-null   object\n",
      " 28  project_affordability_type  5186 non-null   object\n",
      " 29  blocklot                    5186 non-null   object\n",
      " 30  ppts_project_id             5186 non-null   object\n",
      "dtypes: bool(1), int64(15), object(15)\n",
      "memory usage: 1.2+ MB\n"
     ]
    }
   ],
   "source": [
    "df = pd.read_csv('D:\\HCK-010\\phase_2\\Milestone\\p2-ftds010-hck-m3-muhamadinsani17\\data\\P2M3_muhammad_insani_data_clean.csv')\n",
    "df.info()"
   ]
  },
  {
   "cell_type": "markdown",
   "metadata": {},
   "source": [
    "# Initiate Data Context\n",
    "> Pada tahap ini, akan dilakukan pembuatan root directory dari project Great Expectations."
   ]
  },
  {
   "cell_type": "code",
   "execution_count": 26,
   "metadata": {},
   "outputs": [],
   "source": [
    "context = FileDataContext.create(project_root_dir='./')"
   ]
  },
  {
   "cell_type": "markdown",
   "metadata": {},
   "source": [
    "# Connect to A Datasource\n",
    "> Pada tahap ini akan dilakukan penyiapan data source dan data asset yang akan divaldiasi dengan Great Expectations."
   ]
  },
  {
   "cell_type": "code",
   "execution_count": 27,
   "metadata": {},
   "outputs": [],
   "source": [
    "# initializing datasource\n",
    "datasource_name = 'Housing_Production'\n",
    "datasource = context.sources.add_pandas(datasource_name)\n",
    "\n",
    "asset_name = 'cleaned_data'\n",
    "path_to_data = 'D:\\HCK-010\\phase_2\\Milestone\\p2-ftds010-hck-m3-muhamadinsani17\\data\\P2M3_muhammad_insani_data_clean.csv'\n",
    "asset = datasource.add_csv_asset(asset_name, filepath_or_buffer=path_to_data)\n",
    "\n",
    "# Build batch request\n",
    "batch_request = asset.build_batch_request()"
   ]
  },
  {
   "cell_type": "markdown",
   "metadata": {},
   "source": [
    "# Expectation Suite"
   ]
  },
  {
   "cell_type": "markdown",
   "metadata": {},
   "source": [
    "## Create an Expectation Suite"
   ]
  },
  {
   "cell_type": "code",
   "execution_count": 28,
   "metadata": {},
   "outputs": [
    {
     "data": {
      "application/vnd.jupyter.widget-view+json": {
       "model_id": "7096679f1efa4b549c4aab66218b9e0a",
       "version_major": 2,
       "version_minor": 0
      },
      "text/plain": [
       "Calculating Metrics:   0%|          | 0/1 [00:00<?, ?it/s]"
      ]
     },
     "metadata": {},
     "output_type": "display_data"
    },
    {
     "data": {
      "text/html": [
       "<div>\n",
       "<style scoped>\n",
       "    .dataframe tbody tr th:only-of-type {\n",
       "        vertical-align: middle;\n",
       "    }\n",
       "\n",
       "    .dataframe tbody tr th {\n",
       "        vertical-align: top;\n",
       "    }\n",
       "\n",
       "    .dataframe thead th {\n",
       "        text-align: right;\n",
       "    }\n",
       "</style>\n",
       "<table border=\"1\" class=\"dataframe\">\n",
       "  <thead>\n",
       "    <tr style=\"text-align: right;\">\n",
       "      <th></th>\n",
       "      <th>index</th>\n",
       "      <th>bpa</th>\n",
       "      <th>address</th>\n",
       "      <th>description</th>\n",
       "      <th>pts_existing_units</th>\n",
       "      <th>pts_proposed_units</th>\n",
       "      <th>proposed_units</th>\n",
       "      <th>net_units</th>\n",
       "      <th>net_units_completed</th>\n",
       "      <th>first_completion_date</th>\n",
       "      <th>...</th>\n",
       "      <th>planning_dist</th>\n",
       "      <th>plan_area</th>\n",
       "      <th>form_no</th>\n",
       "      <th>permit_type</th>\n",
       "      <th>issued_date</th>\n",
       "      <th>authorization_date</th>\n",
       "      <th>zoning_district</th>\n",
       "      <th>project_affordability_type</th>\n",
       "      <th>blocklot</th>\n",
       "      <th>ppts_project_id</th>\n",
       "    </tr>\n",
       "  </thead>\n",
       "  <tbody>\n",
       "    <tr>\n",
       "      <th>0</th>\n",
       "      <td>0</td>\n",
       "      <td>201602089004</td>\n",
       "      <td>950 MARKET ST</td>\n",
       "      <td>TO ERECT 13 STORIES, 2 BASEMENTS, TYPE I-A, 47...</td>\n",
       "      <td>0</td>\n",
       "      <td>470</td>\n",
       "      <td>470</td>\n",
       "      <td>470</td>\n",
       "      <td>242</td>\n",
       "      <td>09/03/2021 12:00:00 AM</td>\n",
       "      <td>...</td>\n",
       "      <td>4 - Downtown</td>\n",
       "      <td>Downtown</td>\n",
       "      <td>1</td>\n",
       "      <td>Site Permit</td>\n",
       "      <td>12/14/2017 12:00:00 AM</td>\n",
       "      <td>04/08/2019 12:00:00 AM</td>\n",
       "      <td>C-3-G</td>\n",
       "      <td>Inclu: Land Dedication</td>\n",
       "      <td>0342001</td>\n",
       "      <td>2013.1049</td>\n",
       "    </tr>\n",
       "    <tr>\n",
       "      <th>1</th>\n",
       "      <td>1</td>\n",
       "      <td>201611283577</td>\n",
       "      <td>30 OTIS ST</td>\n",
       "      <td>TO ERECT 27 STORIES, 2 BASEMENT, TYPE I-A, 404...</td>\n",
       "      <td>0</td>\n",
       "      <td>404</td>\n",
       "      <td>404</td>\n",
       "      <td>404</td>\n",
       "      <td>395</td>\n",
       "      <td>07/19/2021 12:00:00 AM</td>\n",
       "      <td>...</td>\n",
       "      <td>8 - Mission</td>\n",
       "      <td>Downtown</td>\n",
       "      <td>1</td>\n",
       "      <td>Site Permit</td>\n",
       "      <td>01/22/2019 12:00:00 AM</td>\n",
       "      <td>08/09/2019 12:00:00 AM</td>\n",
       "      <td>C-3-G</td>\n",
       "      <td>Inclu: Fee Payment</td>\n",
       "      <td>3505016</td>\n",
       "      <td>2015-010013PRJ</td>\n",
       "    </tr>\n",
       "    <tr>\n",
       "      <th>2</th>\n",
       "      <td>2</td>\n",
       "      <td>201306210213</td>\n",
       "      <td>2171 03RD ST</td>\n",
       "      <td>TO ERECT 7 STORIES,1 BASEMENT, TYPE IB, 109 UN...</td>\n",
       "      <td>0</td>\n",
       "      <td>109</td>\n",
       "      <td>109</td>\n",
       "      <td>109</td>\n",
       "      <td>104</td>\n",
       "      <td>07/15/2020 12:00:00 AM</td>\n",
       "      <td>...</td>\n",
       "      <td>9 - South of Market</td>\n",
       "      <td>Mission Bay</td>\n",
       "      <td>1</td>\n",
       "      <td>Site Permit</td>\n",
       "      <td>06/08/2017 12:00:00 AM</td>\n",
       "      <td>12/27/2017 12:00:00 AM</td>\n",
       "      <td>UMU</td>\n",
       "      <td>Inclu: On-Site BMR</td>\n",
       "      <td>4045003</td>\n",
       "      <td>2013.0784</td>\n",
       "    </tr>\n",
       "    <tr>\n",
       "      <th>3</th>\n",
       "      <td>3</td>\n",
       "      <td>201801128565</td>\n",
       "      <td>1856 PACIFIC AV</td>\n",
       "      <td>PER ADU UNIT ORDINANCE# 162-16, CONVERT GROUND...</td>\n",
       "      <td>11</td>\n",
       "      <td>16</td>\n",
       "      <td>16</td>\n",
       "      <td>5</td>\n",
       "      <td>1</td>\n",
       "      <td>08/11/2020 12:00:00 AM</td>\n",
       "      <td>...</td>\n",
       "      <td>2 - Marina</td>\n",
       "      <td>Unknown</td>\n",
       "      <td>3</td>\n",
       "      <td>Full BP</td>\n",
       "      <td>07/11/2019 12:00:00 AM</td>\n",
       "      <td>07/11/2019 12:00:00 AM</td>\n",
       "      <td>RH-2</td>\n",
       "      <td>Unknown</td>\n",
       "      <td>0576011</td>\n",
       "      <td>2018-001265PRJ</td>\n",
       "    </tr>\n",
       "    <tr>\n",
       "      <th>4</th>\n",
       "      <td>4</td>\n",
       "      <td>9824818</td>\n",
       "      <td>1328 MISSION ST</td>\n",
       "      <td>4 STORY (12 LIVE WORK) 1 STORY PARKING</td>\n",
       "      <td>0</td>\n",
       "      <td>12</td>\n",
       "      <td>12</td>\n",
       "      <td>12</td>\n",
       "      <td>12</td>\n",
       "      <td>04/02/2016 12:00:00 AM</td>\n",
       "      <td>...</td>\n",
       "      <td>4 - Downtown</td>\n",
       "      <td>Downtown</td>\n",
       "      <td>2</td>\n",
       "      <td>Full BP</td>\n",
       "      <td>08/16/1999 12:00:00 AM</td>\n",
       "      <td>08/16/1999 12:00:00 AM</td>\n",
       "      <td>C-3-G</td>\n",
       "      <td>Inclu: On-Site BMR</td>\n",
       "      <td>3508020</td>\n",
       "      <td>1998.940</td>\n",
       "    </tr>\n",
       "  </tbody>\n",
       "</table>\n",
       "<p>5 rows × 31 columns</p>\n",
       "</div>"
      ],
      "text/plain": [
       "   index           bpa          address  \\\n",
       "0      0  201602089004    950 MARKET ST   \n",
       "1      1  201611283577       30 OTIS ST   \n",
       "2      2  201306210213     2171 03RD ST   \n",
       "3      3  201801128565  1856 PACIFIC AV   \n",
       "4      4       9824818  1328 MISSION ST   \n",
       "\n",
       "                                         description  pts_existing_units  \\\n",
       "0  TO ERECT 13 STORIES, 2 BASEMENTS, TYPE I-A, 47...                   0   \n",
       "1  TO ERECT 27 STORIES, 2 BASEMENT, TYPE I-A, 404...                   0   \n",
       "2  TO ERECT 7 STORIES,1 BASEMENT, TYPE IB, 109 UN...                   0   \n",
       "3  PER ADU UNIT ORDINANCE# 162-16, CONVERT GROUND...                  11   \n",
       "4             4 STORY (12 LIVE WORK) 1 STORY PARKING                   0   \n",
       "\n",
       "   pts_proposed_units  proposed_units  net_units  net_units_completed  \\\n",
       "0                 470             470        470                  242   \n",
       "1                 404             404        404                  395   \n",
       "2                 109             109        109                  104   \n",
       "3                  16              16          5                    1   \n",
       "4                  12              12         12                   12   \n",
       "\n",
       "    first_completion_date  ...        planning_dist    plan_area  form_no  \\\n",
       "0  09/03/2021 12:00:00 AM  ...         4 - Downtown     Downtown        1   \n",
       "1  07/19/2021 12:00:00 AM  ...          8 - Mission     Downtown        1   \n",
       "2  07/15/2020 12:00:00 AM  ...  9 - South of Market  Mission Bay        1   \n",
       "3  08/11/2020 12:00:00 AM  ...           2 - Marina      Unknown        3   \n",
       "4  04/02/2016 12:00:00 AM  ...         4 - Downtown     Downtown        2   \n",
       "\n",
       "   permit_type             issued_date      authorization_date  \\\n",
       "0  Site Permit  12/14/2017 12:00:00 AM  04/08/2019 12:00:00 AM   \n",
       "1  Site Permit  01/22/2019 12:00:00 AM  08/09/2019 12:00:00 AM   \n",
       "2  Site Permit  06/08/2017 12:00:00 AM  12/27/2017 12:00:00 AM   \n",
       "3      Full BP  07/11/2019 12:00:00 AM  07/11/2019 12:00:00 AM   \n",
       "4      Full BP  08/16/1999 12:00:00 AM  08/16/1999 12:00:00 AM   \n",
       "\n",
       "   zoning_district  project_affordability_type  blocklot  ppts_project_id  \n",
       "0            C-3-G      Inclu: Land Dedication   0342001        2013.1049  \n",
       "1            C-3-G          Inclu: Fee Payment   3505016   2015-010013PRJ  \n",
       "2              UMU          Inclu: On-Site BMR   4045003        2013.0784  \n",
       "3             RH-2                     Unknown   0576011   2018-001265PRJ  \n",
       "4            C-3-G          Inclu: On-Site BMR   3508020         1998.940  \n",
       "\n",
       "[5 rows x 31 columns]"
      ]
     },
     "execution_count": 28,
     "metadata": {},
     "output_type": "execute_result"
    }
   ],
   "source": [
    "# Creat an expectation suite\n",
    "expectation_suite_name = 'expectation-Housing_Production-dataset'\n",
    "context.add_or_update_expectation_suite(expectation_suite_name)\n",
    "\n",
    "# Create a validator using above expectation suite\n",
    "validator = context.get_validator(\n",
    "    batch_request = batch_request,\n",
    "    expectation_suite_name = expectation_suite_name\n",
    ")\n",
    "\n",
    "# Check the validator\n",
    "validator.head()"
   ]
  },
  {
   "cell_type": "markdown",
   "metadata": {},
   "source": [
    "## Expectations"
   ]
  },
  {
   "cell_type": "markdown",
   "metadata": {},
   "source": [
    "### 1. to be unique\n",
    ">Alasan utama penggunaan validasi `to be unique` kolom \"BPA\" adalah untuk menjamin bahwa setiap aplikasi izin mendirikan bangunan memiliki identifikasi yang unik. Dengan menerapkan validasi `to be unique` pada kolom \"BPA,\" dapat dihindari adanya duplikasi atau penggunaan nomor aplikasi izin yang sama untuk proyek yang berbeda. Hal ini sangat penting dalam konteks data izin mendirikan bangunan, karena setiap proyek perlu diidentifikasi secara unik agar dapat dilacak dan dikelola dengan efisien."
   ]
  },
  {
   "cell_type": "code",
   "execution_count": 29,
   "metadata": {},
   "outputs": [
    {
     "name": "stdout",
     "output_type": "stream",
     "text": [
      "bpa unique values validation\n"
     ]
    },
    {
     "data": {
      "application/vnd.jupyter.widget-view+json": {
       "model_id": "aef16917318a4cf9bac8ad84f62bdf27",
       "version_major": 2,
       "version_minor": 0
      },
      "text/plain": [
       "Calculating Metrics:   0%|          | 0/8 [00:00<?, ?it/s]"
      ]
     },
     "metadata": {},
     "output_type": "display_data"
    },
    {
     "name": "stdout",
     "output_type": "stream",
     "text": [
      "Expectation is True \n",
      "\n"
     ]
    }
   ],
   "source": [
    "# expectation values within the bpa column are all unique\n",
    "print('bpa unique values validation')\n",
    "unique_bpa=validator.expect_column_values_to_be_unique('bpa')\n",
    "print(f\"Expectation is {unique_bpa['success']}\", '\\n')"
   ]
  },
  {
   "cell_type": "markdown",
   "metadata": {},
   "source": [
    "### 2. to be between min_value and max_value\n",
    "> Great Expectations `to be between min_value and max_value` digunakan untuk memvalidasi kolom-kolom pendapatan diantaranya 'extremely_low_income' dan 'moderate_income__ndr', Ekspektasi yang ditetapkan adalah bahwa nilai-nilai dalam kolom-kolom tersebut harus berada dalam rentang antara 0 hingga 200. Tujuan ekspektasi ini adalah memastikan bahwa data terkait pendapatan mencerminkan jumlah unit yang sesuai dengan kategori tertentu agar membantu memastikan konsistensi dan validitas data terkait proyek perizinan mendirikan bangunan, sesuai dengan konteks dataset yang telah diberikan sebelumnya."
   ]
  },
  {
   "cell_type": "code",
   "execution_count": 30,
   "metadata": {},
   "outputs": [
    {
     "name": "stdout",
     "output_type": "stream",
     "text": [
      "extremely_low_income expectation\n"
     ]
    },
    {
     "data": {
      "application/vnd.jupyter.widget-view+json": {
       "model_id": "bf80b295f8854a03be74054064910b7f",
       "version_major": 2,
       "version_minor": 0
      },
      "text/plain": [
       "Calculating Metrics:   0%|          | 0/8 [00:00<?, ?it/s]"
      ]
     },
     "metadata": {},
     "output_type": "display_data"
    },
    {
     "name": "stdout",
     "output_type": "stream",
     "text": [
      "Expectation is True \n",
      "\n",
      "very_low_income expectation\n"
     ]
    },
    {
     "data": {
      "application/vnd.jupyter.widget-view+json": {
       "model_id": "9e8cd0aecf71460ea59cfe958e3d6d53",
       "version_major": 2,
       "version_minor": 0
      },
      "text/plain": [
       "Calculating Metrics:   0%|          | 0/8 [00:00<?, ?it/s]"
      ]
     },
     "metadata": {},
     "output_type": "display_data"
    },
    {
     "name": "stdout",
     "output_type": "stream",
     "text": [
      "Expectation is True \n",
      "\n",
      "low_income expectation\n"
     ]
    },
    {
     "data": {
      "application/vnd.jupyter.widget-view+json": {
       "model_id": "2a84c53a90a442e7b62ec9ee086bc913",
       "version_major": 2,
       "version_minor": 0
      },
      "text/plain": [
       "Calculating Metrics:   0%|          | 0/8 [00:00<?, ?it/s]"
      ]
     },
     "metadata": {},
     "output_type": "display_data"
    },
    {
     "name": "stdout",
     "output_type": "stream",
     "text": [
      "Expectation is True \n",
      "\n",
      "moderate_income expectation\n"
     ]
    },
    {
     "data": {
      "application/vnd.jupyter.widget-view+json": {
       "model_id": "e7e3d5c0c4884dc7b501d39490ede280",
       "version_major": 2,
       "version_minor": 0
      },
      "text/plain": [
       "Calculating Metrics:   0%|          | 0/8 [00:00<?, ?it/s]"
      ]
     },
     "metadata": {},
     "output_type": "display_data"
    },
    {
     "name": "stdout",
     "output_type": "stream",
     "text": [
      "Expectation is True \n",
      "\n",
      "moderate_income__ndr expectation\n"
     ]
    },
    {
     "data": {
      "application/vnd.jupyter.widget-view+json": {
       "model_id": "d3ea0f7b1b3e4070ad35318858cb55ce",
       "version_major": 2,
       "version_minor": 0
      },
      "text/plain": [
       "Calculating Metrics:   0%|          | 0/8 [00:00<?, ?it/s]"
      ]
     },
     "metadata": {},
     "output_type": "display_data"
    },
    {
     "name": "stdout",
     "output_type": "stream",
     "text": [
      "Expectation is True \n",
      "\n"
     ]
    }
   ],
   "source": [
    "# expectations values min and max within the income columns\n",
    "for col in ['extremely_low_income', 'very_low_income', 'low_income', 'moderate_income', 'moderate_income__ndr']:\n",
    "    print(col, 'expectation')\n",
    "    result=validator.expect_column_values_to_be_between(\n",
    "        column=col, min_value=0, max_value=200\n",
    "        )\n",
    "    print(f\"Expectation is {result['success']}\", '\\n')"
   ]
  },
  {
   "cell_type": "markdown",
   "metadata": {},
   "source": [
    "### 3. to_be_in_set\n",
    ">Dengan menggunakan ekspektasi `to_be_in_set` ini, program memastikan bahwa kolom 'project_affordability_type' dalam dataset memuat nilai-nilai yang sesuai dengan kategori-kategori keterjangkauan proyek yang telah ditentukan sebelumnya. Ini membantu meningkatkan keandalan dan kegunaan dataset dalam analisis data terkait proyek perizinan mendirikan bangunan."
   ]
  },
  {
   "cell_type": "code",
   "execution_count": 31,
   "metadata": {},
   "outputs": [
    {
     "name": "stdout",
     "output_type": "stream",
     "text": [
      "project_affordability_type validation\n"
     ]
    },
    {
     "data": {
      "application/vnd.jupyter.widget-view+json": {
       "model_id": "1d87de5ead784a17845753f7fbfcb8bd",
       "version_major": 2,
       "version_minor": 0
      },
      "text/plain": [
       "Calculating Metrics:   0%|          | 0/8 [00:00<?, ?it/s]"
      ]
     },
     "metadata": {},
     "output_type": "display_data"
    },
    {
     "name": "stdout",
     "output_type": "stream",
     "text": [
      "Expectation is True \n",
      "\n"
     ]
    }
   ],
   "source": [
    "# expectation values are in the set or contain one of the following category\n",
    "print('project_affordability_type validation')\n",
    "result=validator.expect_column_values_to_be_in_set('project_affordability_type',\n",
    "                                            ['Inclu: Land Dedication', 'Inclu: Fee Payment', 'Inclu: On-Site BMR', 'Unknown',\n",
    "                                            'Inclu: Combination', '100% Affordable','Inclu: Off-Site BMR','Inclu: Off-Site BMR, Fee',\n",
    "                                            'Exempt']\n",
    ")\n",
    "print(f\"Expectation is {result['success']}\", '\\n')"
   ]
  },
  {
   "cell_type": "markdown",
   "metadata": {},
   "source": [
    "### 4. to_be_in_type_list\n",
    ">Dengan menggunakan ekspektasi `to_be_in_type_list` ini, program memastikan bahwa kolom-kolom numerik dalam dataset memiliki nilai-nilai berupa bilangan bulat, sehingga meningkatkan keandalan dan konsistensi tipe data dalam analisis data terkait proyek perizinan mendirikan bangunan."
   ]
  },
  {
   "cell_type": "code",
   "execution_count": 32,
   "metadata": {},
   "outputs": [
    {
     "name": "stdout",
     "output_type": "stream",
     "text": [
      "pts_existing_units numeric type validation\n"
     ]
    },
    {
     "data": {
      "application/vnd.jupyter.widget-view+json": {
       "model_id": "c0d08ec239ad43b39cb4f75a93984452",
       "version_major": 2,
       "version_minor": 0
      },
      "text/plain": [
       "Calculating Metrics:   0%|          | 0/1 [00:00<?, ?it/s]"
      ]
     },
     "metadata": {},
     "output_type": "display_data"
    },
    {
     "name": "stdout",
     "output_type": "stream",
     "text": [
      "Expectation is True \n",
      "\n",
      "pts_proposed_units numeric type validation\n"
     ]
    },
    {
     "data": {
      "application/vnd.jupyter.widget-view+json": {
       "model_id": "d12c2094bb0f4088ace575945aa12f9d",
       "version_major": 2,
       "version_minor": 0
      },
      "text/plain": [
       "Calculating Metrics:   0%|          | 0/1 [00:00<?, ?it/s]"
      ]
     },
     "metadata": {},
     "output_type": "display_data"
    },
    {
     "name": "stdout",
     "output_type": "stream",
     "text": [
      "Expectation is True \n",
      "\n",
      "proposed_units numeric type validation\n"
     ]
    },
    {
     "data": {
      "application/vnd.jupyter.widget-view+json": {
       "model_id": "dc86aa67168e4f82aa98a5fa782ec92d",
       "version_major": 2,
       "version_minor": 0
      },
      "text/plain": [
       "Calculating Metrics:   0%|          | 0/1 [00:00<?, ?it/s]"
      ]
     },
     "metadata": {},
     "output_type": "display_data"
    },
    {
     "name": "stdout",
     "output_type": "stream",
     "text": [
      "Expectation is True \n",
      "\n",
      "net_units numeric type validation\n"
     ]
    },
    {
     "data": {
      "application/vnd.jupyter.widget-view+json": {
       "model_id": "e7f3ea4298f948119e9eaca2c74d5953",
       "version_major": 2,
       "version_minor": 0
      },
      "text/plain": [
       "Calculating Metrics:   0%|          | 0/1 [00:00<?, ?it/s]"
      ]
     },
     "metadata": {},
     "output_type": "display_data"
    },
    {
     "name": "stdout",
     "output_type": "stream",
     "text": [
      "Expectation is True \n",
      "\n",
      "net_units_completed numeric type validation\n"
     ]
    },
    {
     "data": {
      "application/vnd.jupyter.widget-view+json": {
       "model_id": "ab59d69eb24342c4a3fad8f49b2c6440",
       "version_major": 2,
       "version_minor": 0
      },
      "text/plain": [
       "Calculating Metrics:   0%|          | 0/1 [00:00<?, ?it/s]"
      ]
     },
     "metadata": {},
     "output_type": "display_data"
    },
    {
     "name": "stdout",
     "output_type": "stream",
     "text": [
      "Expectation is True \n",
      "\n",
      "affordable_units numeric type validation\n"
     ]
    },
    {
     "data": {
      "application/vnd.jupyter.widget-view+json": {
       "model_id": "8db523b455a547bbada6ec2929ffa717",
       "version_major": 2,
       "version_minor": 0
      },
      "text/plain": [
       "Calculating Metrics:   0%|          | 0/1 [00:00<?, ?it/s]"
      ]
     },
     "metadata": {},
     "output_type": "display_data"
    },
    {
     "name": "stdout",
     "output_type": "stream",
     "text": [
      "Expectation is True \n",
      "\n",
      "market_rate numeric type validation\n"
     ]
    },
    {
     "data": {
      "application/vnd.jupyter.widget-view+json": {
       "model_id": "bb5a3ec6a7f34339a316f7b6974721d2",
       "version_major": 2,
       "version_minor": 0
      },
      "text/plain": [
       "Calculating Metrics:   0%|          | 0/1 [00:00<?, ?it/s]"
      ]
     },
     "metadata": {},
     "output_type": "display_data"
    },
    {
     "name": "stdout",
     "output_type": "stream",
     "text": [
      "Expectation is True \n",
      "\n",
      "supervisor_district numeric type validation\n"
     ]
    },
    {
     "data": {
      "application/vnd.jupyter.widget-view+json": {
       "model_id": "5708bb82db76489d8f678d8ee5b9beb5",
       "version_major": 2,
       "version_minor": 0
      },
      "text/plain": [
       "Calculating Metrics:   0%|          | 0/1 [00:00<?, ?it/s]"
      ]
     },
     "metadata": {},
     "output_type": "display_data"
    },
    {
     "name": "stdout",
     "output_type": "stream",
     "text": [
      "Expectation is True \n",
      "\n",
      "form_no numeric type validation\n"
     ]
    },
    {
     "data": {
      "application/vnd.jupyter.widget-view+json": {
       "model_id": "e936c20564944653a35a1e5a16cdceaa",
       "version_major": 2,
       "version_minor": 0
      },
      "text/plain": [
       "Calculating Metrics:   0%|          | 0/1 [00:00<?, ?it/s]"
      ]
     },
     "metadata": {},
     "output_type": "display_data"
    },
    {
     "name": "stdout",
     "output_type": "stream",
     "text": [
      "Expectation is True \n",
      "\n"
     ]
    }
   ],
   "source": [
    "# expectation values of numeric columns has to be either interger\n",
    "numeric_list=['pts_existing_units', 'pts_proposed_units', 'proposed_units', 'net_units','net_units_completed','affordable_units','market_rate','supervisor_district','form_no']\n",
    "for num in numeric_list:\n",
    "    print(num, 'numeric type validation')\n",
    "    result=validator.expect_column_values_to_be_in_type_list(num, ['int64'])\n",
    "    print(f\"Expectation is {result['success']}\", '\\n')"
   ]
  },
  {
   "cell_type": "markdown",
   "metadata": {},
   "source": [
    "### 5. to_not_match_regex_list\n",
    ">Dengan menggunakan ekspektasi `to_not_match_regex_list`, program memastikan bahwa nama wilayah analisis dan jenis izin dalam dataset tidak mengandung karakter tidak diinginkan, seperti angka atau simbol khusus. Validasi ini bertujuan mencegah ketidaksesuaian, menjaga konsistensi dan akurasi data dalam analisis proyek perizinan mendirikan bangunan, serta mengurangi potensi kesalahan atau ketidaksesuaian dalam penamaan wilayah analisis dan jenis izin."
   ]
  },
  {
   "cell_type": "code",
   "execution_count": 33,
   "metadata": {},
   "outputs": [
    {
     "name": "stdout",
     "output_type": "stream",
     "text": [
      "analysis_neighborhood not match regex list validation\n"
     ]
    },
    {
     "data": {
      "application/vnd.jupyter.widget-view+json": {
       "model_id": "f04cbc126da44c0e973bffa714a3daea",
       "version_major": 2,
       "version_minor": 0
      },
      "text/plain": [
       "Calculating Metrics:   0%|          | 0/8 [00:00<?, ?it/s]"
      ]
     },
     "metadata": {},
     "output_type": "display_data"
    },
    {
     "name": "stdout",
     "output_type": "stream",
     "text": [
      "Expectation is True \n",
      "\n",
      "permit_type not match regex list validation\n"
     ]
    },
    {
     "data": {
      "application/vnd.jupyter.widget-view+json": {
       "model_id": "80206655fa4f4919b3e8a06317f95470",
       "version_major": 2,
       "version_minor": 0
      },
      "text/plain": [
       "Calculating Metrics:   0%|          | 0/8 [00:00<?, ?it/s]"
      ]
     },
     "metadata": {},
     "output_type": "display_data"
    },
    {
     "name": "stdout",
     "output_type": "stream",
     "text": [
      "Expectation is True \n",
      "\n"
     ]
    }
   ],
   "source": [
    "# expectation that the analysis_neighborhood and permit_type names are only letters, '.', ',' and spaces\n",
    "for val in ['analysis_neighborhood','permit_type']:\n",
    "    print(val, 'not match regex list validation')\n",
    "    pattern_val=validator.expect_column_values_to_not_match_regex_list(\n",
    "    column=val,\n",
    "    regex_list=[r'.*[@\\\\\"0-9].*']\n",
    ")\n",
    "    print(f\"Expectation is {pattern_val['success']}\", '\\n')"
   ]
  },
  {
   "cell_type": "markdown",
   "metadata": {},
   "source": [
    "### 6. table_row_count_to_be_between\n",
    ">Dengan `table_row_count_to_be_between`, ekspektasi ini membantu mencegah kesalahan analisis yang dapat timbul jika dataset terlalu kecil atau terlalu besar. Dengan demikian, program memastikan bahwa dataset memiliki ukuran yang sesuai, meningkatkan keandalan data dalam analisis proyek perizinan mendirikan bangunan."
   ]
  },
  {
   "cell_type": "code",
   "execution_count": null,
   "metadata": {},
   "outputs": [],
   "source": [
    "# Expectation \"expect_table_row_count_to_be_between\"\n",
    "print('data set validation table row count')\n",
    "table_row_count_expectation = validator.expect_table_row_count_to_be_between(\n",
    "    min_value=1000,\n",
    "    max_value=10000\n",
    ")\n",
    "\n",
    "print(f\"Expectation is {table_row_count_expectation['success']}\", '\\n')"
   ]
  },
  {
   "cell_type": "markdown",
   "metadata": {},
   "source": [
    "### 7. to_be_of_type\n",
    ">Ekspektasi `to_be_of_type` ini mengharapkan bahwa nilai-nilai dalam kolom description memiliki tipe data \"object\" (objek atau string). Validasi ini membantu memastikan konsistensi dan keamanan data, mencegah kesalahan atau ketidaksesuaian tipe data yang dapat memengaruhi analisis. "
   ]
  },
  {
   "cell_type": "code",
   "execution_count": 35,
   "metadata": {},
   "outputs": [
    {
     "name": "stdout",
     "output_type": "stream",
     "text": [
      "description type validation\n"
     ]
    },
    {
     "data": {
      "application/vnd.jupyter.widget-view+json": {
       "model_id": "f38b61e6d5744e7cbe424488bfab9f46",
       "version_major": 2,
       "version_minor": 0
      },
      "text/plain": [
       "Calculating Metrics:   0%|          | 0/1 [00:00<?, ?it/s]"
      ]
     },
     "metadata": {},
     "output_type": "display_data"
    },
    {
     "name": "stdout",
     "output_type": "stream",
     "text": [
      "Expectation is True \n",
      "\n"
     ]
    }
   ],
   "source": [
    "# Expectation \"expect_column_values_to_be_of_type\"\n",
    "print('description type validation')\n",
    "column_type_expectation = validator.expect_column_values_to_be_of_type(\n",
    "    \"description\",\n",
    "    \"object\"\n",
    ")\n",
    "print(f\"Expectation is {column_type_expectation['success']}\", '\\n')"
   ]
  },
  {
   "cell_type": "markdown",
   "metadata": {},
   "source": [
    "### 8. to_not_be_null\n",
    ">Ekspektasi `to_not_be_null` digubakan untuk memvalidasi kolom 'ppts_project_id' dengan mengharapkan bahwa nilai-nilai yang sebelumnya bernilai null sekarang tidak lagi null. Ekspektasi ini diterapkan untuk memastikan bahwa setiap proyek perizinan mendirikan bangunan memiliki ID yang terdefinisi dengan baik, meningkatkan konsistensi dan validitas data."
   ]
  },
  {
   "cell_type": "code",
   "execution_count": 36,
   "metadata": {},
   "outputs": [
    {
     "name": "stdout",
     "output_type": "stream",
     "text": [
      "ppts_project_id not null validation\n"
     ]
    },
    {
     "data": {
      "application/vnd.jupyter.widget-view+json": {
       "model_id": "bcd439e5eaa4451e8ceec91896d71cf8",
       "version_major": 2,
       "version_minor": 0
      },
      "text/plain": [
       "Calculating Metrics:   0%|          | 0/6 [00:00<?, ?it/s]"
      ]
     },
     "metadata": {},
     "output_type": "display_data"
    },
    {
     "name": "stdout",
     "output_type": "stream",
     "text": [
      "Expectation is True\n"
     ]
    }
   ],
   "source": [
    "# expectation values that was null not to be null\n",
    "print('ppts_project_id not null validation')\n",
    "not_null= validator.expect_column_values_to_not_be_null('ppts_project_id')\n",
    "print(f\"Expectation is {not_null['success']}\")"
   ]
  },
  {
   "cell_type": "markdown",
   "metadata": {},
   "source": [
    "## Menyimpan Expectation Suite"
   ]
  },
  {
   "cell_type": "code",
   "execution_count": 37,
   "metadata": {},
   "outputs": [],
   "source": [
    "validator.save_expectation_suite(discard_failed_expectations=False)"
   ]
  },
  {
   "cell_type": "markdown",
   "metadata": {},
   "source": [
    "# Checkpoint"
   ]
  },
  {
   "cell_type": "code",
   "execution_count": 38,
   "metadata": {},
   "outputs": [],
   "source": [
    "Checkpoint = context.add_or_update_checkpoint(\n",
    "    name = 'Checkpoint',\n",
    "    validator = validator,\n",
    ")"
   ]
  },
  {
   "cell_type": "code",
   "execution_count": 39,
   "metadata": {},
   "outputs": [
    {
     "data": {
      "application/vnd.jupyter.widget-view+json": {
       "model_id": "6edd36203aa6422bbd49eb493315fce5",
       "version_major": 2,
       "version_minor": 0
      },
      "text/plain": [
       "Calculating Metrics:   0%|          | 0/71 [00:00<?, ?it/s]"
      ]
     },
     "metadata": {},
     "output_type": "display_data"
    }
   ],
   "source": [
    "checkpoint_result = Checkpoint.run()"
   ]
  },
  {
   "cell_type": "markdown",
   "metadata": {},
   "source": [
    "# Data Docs"
   ]
  },
  {
   "cell_type": "code",
   "execution_count": 40,
   "metadata": {},
   "outputs": [
    {
     "data": {
      "text/plain": [
       "{'local_site': 'file://d:\\\\HCK-010\\\\phase_2\\\\Milestone\\\\p2-ftds010-hck-m3-muhamadinsani17\\\\gx\\\\uncommitted/data_docs/local_site/index.html'}"
      ]
     },
     "execution_count": 40,
     "metadata": {},
     "output_type": "execute_result"
    }
   ],
   "source": [
    "context.build_data_docs()"
   ]
  }
 ],
 "metadata": {
  "kernelspec": {
   "display_name": "base",
   "language": "python",
   "name": "python3"
  },
  "language_info": {
   "codemirror_mode": {
    "name": "ipython",
    "version": 3
   },
   "file_extension": ".py",
   "mimetype": "text/x-python",
   "name": "python",
   "nbconvert_exporter": "python",
   "pygments_lexer": "ipython3",
   "version": "3.11.5"
  }
 },
 "nbformat": 4,
 "nbformat_minor": 2
}
